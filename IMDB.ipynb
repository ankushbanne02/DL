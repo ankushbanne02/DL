{
 "cells": [
  {
   "cell_type": "code",
   "execution_count": 2,
   "id": "e7be4788",
   "metadata": {},
   "outputs": [],
   "source": [
    "import numpy as np\n",
    "import pandas as pd\n",
    "import re\n",
    "import tensorflow as tf\n",
    "from sklearn.model_selection import train_test_split\n",
    "\n",
    "# Load dataset\n",
    "your_dataset = pd.read_csv('C:/Users/AKASH/Desktop/5th SEM/AS/FG/ty_stdy_mat_2024/Computer vision/FINALPR/IMDB-dataset.CSV')\n",
    "\n",
    "\n"
   ]
  },
  {
   "cell_type": "code",
   "execution_count": null,
   "id": "8ac27f90",
   "metadata": {},
   "outputs": [],
   "source": []
  },
  {
   "cell_type": "code",
   "execution_count": 11,
   "id": "8e2d36c7",
   "metadata": {},
   "outputs": [
    {
     "name": "stdout",
     "output_type": "stream",
     "text": [
      "0        One of the other reviewers has mentioned that ...\n",
      "1        A wonderful little production. <br /><br />The...\n",
      "2        I thought this was a wonderful way to spend ti...\n",
      "3        Basically there's a family where a little boy ...\n",
      "4        Petter Mattei's \"Love in the Time of Money\" is...\n",
      "                               ...                        \n",
      "49995    I thought this movie did a down right good job...\n",
      "49996    Bad plot, bad dialogue, bad acting, idiotic di...\n",
      "49997    I am a Catholic taught in parochial elementary...\n",
      "49998    I'm going to have to disagree with the previou...\n",
      "49999    No one expects the Star Trek movies to be high...\n",
      "Name: review, Length: 50000, dtype: object\n"
     ]
    },
    {
     "data": {
      "text/plain": [
       "array([1, 1, 1, ..., 0, 0, 0])"
      ]
     },
     "execution_count": 11,
     "metadata": {},
     "output_type": "execute_result"
    }
   ],
   "source": [
    "# Extract features and labels\n",
    "x = your_dataset['review']\n",
    "y = your_dataset['sentiment']\n",
    "\n",
    "\n",
    "# Encode labels (positive: 1, negative: 0)\n",
    "y = np.array([1 if label == 'positive' else 0 for label in y])\n"
   ]
  },
  {
   "cell_type": "code",
   "execution_count": null,
   "id": "83295182",
   "metadata": {},
   "outputs": [],
   "source": [
    "# Text preprocessing function\n",
    "def preprocess_text(text):\n",
    "    text = re.sub('[^a-zA-Z]', ' ', text) # Remove non-alphabetic characters\n",
    "    text = text.lower().strip() # Convert to lowercase and strip whitespace\n",
    "    return text\n",
    "\n",
    "# Preprocess the reviews\n",
    "x = [preprocess_text(sentence) for sentence in x]\n"
   ]
  },
  {
   "cell_type": "code",
   "execution_count": 5,
   "id": "8009f37e",
   "metadata": {},
   "outputs": [],
   "source": [
    "max_tokens = 200\n",
    "vocab_size = 15000\n",
    "tokenizer = tf.keras.preprocessing.text.Tokenizer(num_words=vocab_size)\n",
    "tokenizer.fit_on_texts(x)\n",
    "\n",
    "x_tokens = tokenizer.texts_to_sequences(x)\n",
    "\n",
    "x_pad = tf.keras.preprocessing.sequence.pad_sequences(x_tokens,maxlen=max_tokens)"
   ]
  },
  {
   "cell_type": "code",
   "execution_count": 6,
   "id": "129bfc97",
   "metadata": {},
   "outputs": [],
   "source": [
    "x_train, x_test, y_train, y_test = train_test_split(x_pad,y,test_size=0.3,random_state=32)"
   ]
  },
  {
   "cell_type": "code",
   "execution_count": 7,
   "id": "c117d565",
   "metadata": {},
   "outputs": [],
   "source": [
    "model =tf.keras.models.Sequential()\n",
    "embedding_size =50\n",
    "model.add(tf.keras.layers.Embedding(input_dim =vocab_size, output_dim = embedding_size, input_length =max_tokens))\n",
    "\n",
    "model.add(tf.keras.layers.LSTM(units=16, return_sequences=True))\n",
    "model.add(tf.keras.layers.Dropout(0.2))\n",
    "\n",
    "model.add(tf.keras.layers.LSTM(units=8, return_sequences=True))\n",
    "model.add(tf.keras.layers.Dropout(0.2))\n",
    "\n",
    "model.add(tf.keras.layers.LSTM(units=4, return_sequences = True))\n",
    "model.add(tf.keras.layers.Dropout(0.1))\n",
    "\n",
    "model.add(tf.keras.layers.LSTM(units=2))\n",
    "model.add(tf.keras.layers.Dropout(0.1))\n",
    "\n",
    "\n",
    "model.add(tf.keras.layers.Dense(1, activation=\"sigmoid\"))\n",
    "\n",
    "\n",
    "\n"
   ]
  },
  {
   "cell_type": "code",
   "execution_count": 27,
   "id": "ce4f1557",
   "metadata": {},
   "outputs": [
    {
     "name": "stdout",
     "output_type": "stream",
     "text": [
      "Epoch 1/2\n",
      "35/35 [==============================] - 77s 2s/step - loss: 0.6573 - accuracy: 0.6439 - val_loss: 0.5550 - val_accuracy: 0.7555\n",
      "Epoch 2/2\n",
      "35/35 [==============================] - 61s 2s/step - loss: 0.4769 - accuracy: 0.8314 - val_loss: 0.4311 - val_accuracy: 0.8515\n"
     ]
    }
   ],
   "source": [
    "optmize = tf.keras.optimizers.Adam(learning_rate=1e-3)\n",
    "model.compile(loss='binary_crossentropy', optimizer=optmize, metrics=['accuracy'])\n",
    "\n",
    "histroy = model.fit(x_train,y_train, validation_data=(x_test,y_test), epochs=2,batch_size=1024, shuffle=True, verbose=1)"
   ]
  },
  {
   "cell_type": "code",
   "execution_count": 30,
   "id": "1b450934",
   "metadata": {},
   "outputs": [
    {
     "name": "stdout",
     "output_type": "stream",
     "text": [
      "469/469 [==============================] - 27s 58ms/step - loss: 0.4311 - accuracy: 0.8515\n",
      "Validation Accuracy: 0.8515333533287048\n"
     ]
    }
   ],
   "source": [
    "result=model.evaluate(x_test,y_test)\n",
    "result[0]\n",
    "print(\"Validation Accuracy:\", result[1])"
   ]
  },
  {
   "cell_type": "code",
   "execution_count": 39,
   "id": "790c917d",
   "metadata": {},
   "outputs": [
    {
     "name": "stdout",
     "output_type": "stream",
     "text": [
      "1/1 [==============================] - 3s 3s/step\n"
     ]
    }
   ],
   "source": [
    "\n",
    "sentence = \"MOvie was good\"\n",
    "\n",
    "sentence =preprocess_text(sentence)\n",
    "\n",
    "tok_s = tokenizer.texts_to_sequences([sentence])\n",
    "t_pad = tf.keras.preprocessing.sequence.pad_sequences(tok_s,maxlen=max_tokens)\n",
    "predication = model.predict(t_pad)\n"
   ]
  },
  {
   "cell_type": "code",
   "execution_count": 41,
   "id": "c378b414",
   "metadata": {},
   "outputs": [
    {
     "name": "stdout",
     "output_type": "stream",
     "text": [
      "1/1 [==============================] - 0s 54ms/step\n",
      "[[0.7062687]]\n"
     ]
    }
   ],
   "source": [
    "predication = model.predict(t_pad)\n",
    "\n",
    "print(predication)"
   ]
  },
  {
   "cell_type": "code",
   "execution_count": null,
   "id": "dd15a008",
   "metadata": {},
   "outputs": [],
   "source": []
  }
 ],
 "metadata": {
  "kernelspec": {
   "display_name": "Python 3 (ipykernel)",
   "language": "python",
   "name": "python3"
  },
  "language_info": {
   "codemirror_mode": {
    "name": "ipython",
    "version": 3
   },
   "file_extension": ".py",
   "mimetype": "text/x-python",
   "name": "python",
   "nbconvert_exporter": "python",
   "pygments_lexer": "ipython3",
   "version": "3.11.5"
  }
 },
 "nbformat": 4,
 "nbformat_minor": 5
}
