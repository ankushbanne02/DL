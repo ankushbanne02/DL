{
 "cells": [
  {
   "cell_type": "code",
   "execution_count": 9,
   "id": "9b35eedc",
   "metadata": {},
   "outputs": [],
   "source": [
    "import numpy as np\n",
    "import tensorflow as tf\n",
    "from tensorflow.keras.models import Sequential\n",
    "from tensorflow.keras.layers import Dense, Flatten, Conv2D, MaxPooling2D\n",
    "from tensorflow.keras.utils import to_categorical\n",
    "\n",
    "# Load the MNIST dataset\n",
    "data = np.load('C:/Users/AKASH/Desktop/mnist_compressed.npz')\n",
    "train_images, train_labels = data['train_images'], data['train_labels']\n",
    "test_images, test_labels = data['test_images'], data['test_labels']\n",
    "\n",
    "# Normalize the image data (pixel values between 0 and 1)\n",
    "train_images = train_images / 255.0\n",
    "test_images = test_images / 255.0"
   ]
  },
  {
   "cell_type": "code",
   "execution_count": 11,
   "id": "f516a8e8",
   "metadata": {},
   "outputs": [
    {
     "name": "stdout",
     "output_type": "stream",
     "text": [
      "Shape of train_images: (60000, 28, 56)\n",
      "Shape of test_images: (10000, 28, 56)\n"
     ]
    }
   ],
   "source": [
    "print(\"Shape of train_images:\", train_images.shape)\n",
    "print(\"Shape of test_images:\", test_images.shape)\n",
    "\n",
    "\n",
    "num_train_samples, height, width = train_images.shape[0], train_images.shape[1], train_images.shape[2]\n",
    "\n",
    "# Reshape the data to add a channel dimension\n",
    "train_images = train_images.reshape(num_train_samples, height, width, 1)\n",
    "test_images = test_images.reshape(test_images.shape[0], height, width, 1)\n",
    "\n",
    "train_labels = to_categorical(train_labels, 100)\n",
    "test_labels = to_categorical(test_labels, 100)\n",
    "\n",
    "# Adjust the CNN's input shape based on actual image dimensions\n",
    "model = Sequential([\n",
    "    Conv2D(32, (3, 3), activation='relu', input_shape=(height, width, 1)),\n",
    "    MaxPooling2D((2, 2)),\n",
    "    Conv2D(64, (3, 3), activation='relu'),\n",
    "    MaxPooling2D((2, 2)),\n",
    "    Flatten(),\n",
    "    Dense(128, activation='relu'),\n",
    "    Dense(100, activation='softmax')\n",
    "])\n",
    "\n",
    "\n"
   ]
  },
  {
   "cell_type": "code",
   "execution_count": 12,
   "id": "fd716d53",
   "metadata": {},
   "outputs": [
    {
     "name": "stdout",
     "output_type": "stream",
     "text": [
      "Epoch 1/3\n",
      "1500/1500 [==============================] - 152s 97ms/step - loss: 0.7180 - accuracy: 0.8049 - val_loss: 0.2106 - val_accuracy: 0.9343\n",
      "Epoch 2/3\n",
      "1500/1500 [==============================] - 104s 69ms/step - loss: 0.1522 - accuracy: 0.9540 - val_loss: 0.1446 - val_accuracy: 0.9546\n",
      "Epoch 3/3\n",
      "1500/1500 [==============================] - 72s 48ms/step - loss: 0.0916 - accuracy: 0.9710 - val_loss: 0.1274 - val_accuracy: 0.9623\n"
     ]
    },
    {
     "data": {
      "text/plain": [
       "<keras.src.callbacks.History at 0x17c811b5d50>"
      ]
     },
     "execution_count": 12,
     "metadata": {},
     "output_type": "execute_result"
    }
   ],
   "source": [
    "model.compile(optimizer='adam',\n",
    "              loss='categorical_crossentropy',\n",
    "              metrics=['accuracy'])\n",
    "\n",
    "# Train the model\n",
    "model.fit(train_images, train_labels, epochs=3, batch_size=32, validation_split=0.2)"
   ]
  },
  {
   "cell_type": "code",
   "execution_count": 13,
   "id": "2f47412c",
   "metadata": {},
   "outputs": [
    {
     "name": "stdout",
     "output_type": "stream",
     "text": [
      "1/1 [==============================] - 0s 255ms/step\n"
     ]
    },
    {
     "data": {
      "image/png": "[encoded data removed]",
      "text/plain": [
       "<Figure size 640x480 with 1 Axes>"
      ]
     },
     "metadata": {},
     "output_type": "display_data"
    },
    {
     "name": "stdout",
     "output_type": "stream",
     "text": [
      "Predicted Probabilities: [[2.54560609e-11 4.58768093e-12 7.06048900e-11 2.38586837e-14\n",
      "  9.35364142e-08 1.25012067e-12 3.74908382e-10 4.16372937e-15\n",
      "  8.07881817e-11 6.43005484e-12 8.01566799e-12 8.19814702e-13\n",
      "  1.00335946e-11 3.19870769e-15 9.80805881e-10 5.49273804e-15\n",
      "  6.63166137e-12 2.47959507e-18 1.97105310e-12 1.48597836e-14\n",
      "  1.20094637e-11 1.02607191e-12 8.20444407e-11 5.58948233e-15\n",
      "  6.37809050e-09 1.24903013e-14 1.88734662e-12 2.25312104e-17\n",
      "  3.43245952e-11 5.30329741e-13 4.78165684e-12 1.77803888e-14\n",
      "  1.83826912e-11 5.32012765e-16 1.08701798e-10 1.25538732e-15\n",
      "  1.89667794e-13 1.39237145e-17 2.42865651e-13 4.79229991e-13\n",
      "  3.07122990e-12 3.73277188e-14 7.19934182e-12 4.16821288e-14\n",
      "  1.33312188e-08 2.26289976e-15 4.71981802e-14 2.15545334e-17\n",
      "  1.11241268e-12 1.18234585e-14 2.54154919e-08 1.44251616e-11\n",
      "  2.03457873e-09 3.18195882e-13 1.06183234e-06 5.62407586e-12\n",
      "  8.68479733e-11 1.14797723e-14 5.88769478e-10 9.65671154e-11\n",
      "  1.29515844e-04 8.47729461e-06 6.44333704e-05 3.49089468e-09\n",
      "  9.99779284e-01 3.13884989e-08 1.47100263e-05 2.00546690e-09\n",
      "  2.01649732e-06 2.58586653e-07 9.39616874e-18 2.26393130e-19\n",
      "  4.66567750e-17 1.67595969e-20 1.08232716e-15 2.82828871e-18\n",
      "  2.41015260e-20 5.84262676e-20 8.26704752e-17 6.22948427e-21\n",
      "  2.10558598e-10 2.11952733e-14 9.25269323e-12 1.85977996e-13\n",
      "  8.04749867e-09 1.07255903e-12 9.89555660e-12 2.75989995e-15\n",
      "  8.39651590e-13 6.27033486e-14 2.75841849e-13 5.58664731e-15\n",
      "  7.88766079e-13 8.65431562e-16 8.39793735e-10 1.32081913e-15\n",
      "  4.11024906e-14 2.37080101e-16 1.60952625e-14 2.37234386e-12]]\n"
     ]
    }
   ],
   "source": [
    "import numpy as np\n",
    "import matplotlib.pyplot as plt\n",
    "\n",
    "# Select one image from the training set\n",
    "single_image = train_images[0]\n",
    "single_label = np.argmax(train_labels[0])  # Get the actual label\n",
    "\n",
    "# Add batch dimension to the image\n",
    "single_image_batch = np.expand_dims(single_image, axis=0)  # Shape becomes (1, height, width, 1)\n",
    "\n",
    "# Make a prediction\n",
    "predicted_probabilities = model.predict(single_image_batch)\n",
    "predicted_label = np.argmax(predicted_probabilities)  # Get the predicted class\n",
    "\n",
    "# Display the image and the prediction\n",
    "plt.imshow(single_image.squeeze(), cmap='gray')  # Remove channel dimension for display\n",
    "plt.title(f\"Actual Label: {single_label} | Predicted Label: {predicted_label}\")\n",
    "plt.axis('off')\n",
    "plt.show()\n",
    "\n",
    "# Print detailed probabilities (optional)\n",
    "print(f\"Predicted Probabilities: {predicted_probabilities}\")\n"
   ]
  },
  {
   "cell_type": "code",
   "execution_count": null,
   "id": "f9ac7988",
   "metadata": {},
   "outputs": [],
   "source": []
  }
 ],
 "metadata": {
  "kernelspec": {
   "display_name": "Python 3 (ipykernel)",
   "language": "python",
   "name": "python3"
  },
  "language_info": {
   "codemirror_mode": {
    "name": "ipython",
    "version": 3
   },
   "file_extension": ".py",
   "mimetype": "text/x-python",
   "name": "python",
   "nbconvert_exporter": "python",
   "pygments_lexer": "ipython3",
   "version": "3.11.5"
  }
 },
 "nbformat": 4,
 "nbformat_minor": 5
}
