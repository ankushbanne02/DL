{
 "cells": [
  {
   "cell_type": "code",
   "execution_count": 1,
   "id": "a8c60659",
   "metadata": {},
   "outputs": [],
   "source": [
    "import numpy as np\n",
    "from tensorflow import keras\n",
    "from keras.layers import Conv2D,MaxPooling2D,Flatten,Dense\n",
    "from keras.utils import to_categorical,img_to_array\n",
    "import matplotlib.pyplot as palt"
   ]
  },
  {
   "cell_type": "code",
   "execution_count": 2,
   "id": "666012c2",
   "metadata": {},
   "outputs": [],
   "source": [
    "x_train_g = np.load(\"C:/Users/AKASH/Desktop/train_validation/train_gesture.npy\")\n",
    "x_test_l= np.load(\"C:/Users/AKASH/Desktop/train_validation/train_gesture_labels.npy\")\n",
    "\n",
    "y_train_g=np.load(\"C:/Users/AKASH/Desktop/train_validation/validation_gesture.npy\")\n",
    "y_test_l=np.load(\"C:/Users/AKASH/Desktop/train_validation/validation_gesture_labels.npy\")"
   ]
  },
  {
   "cell_type": "code",
   "execution_count": 3,
   "id": "dae5ded0",
   "metadata": {},
   "outputs": [],
   "source": [
    "x_train_g=x_train_g.astype(\"float32\")/255.0\n",
    "y_train_g_=y_train_g.astype(\"float32\")/255.0"
   ]
  },
  {
   "cell_type": "code",
   "execution_count": 41,
   "id": "d3749a08",
   "metadata": {},
   "outputs": [],
   "source": [
    "x_train_g= x_train_g[...,np.newaxis]\n",
    "y_train_g= y_train_g[..., np.newaxis]"
   ]
  },
  {
   "cell_type": "code",
   "execution_count": 42,
   "id": "c8f6b2b0",
   "metadata": {},
   "outputs": [],
   "source": [
    "#converet the labels into one hot encoding\n",
    "\n",
    "num=len(np.unique(x_test_l))\n",
    "x_test_l=to_categorical(x_test_l,num)\n",
    "y_test_l=to_categorical(y_test_l,num)\n"
   ]
  },
  {
   "cell_type": "code",
   "execution_count": 43,
   "id": "081ef408",
   "metadata": {},
   "outputs": [
    {
     "name": "stdout",
     "output_type": "stream",
     "text": [
      "Model: \"sequential_13\"\n",
      "_________________________________________________________________\n",
      " Layer (type)                Output Shape              Param #   \n",
      "=================================================================\n",
      " conv2d_17 (Conv2D)          (None, 48, 48, 32)        320       \n",
      "                                                                 \n",
      " max_pooling2d_14 (MaxPooli  (None, 24, 24, 32)        0         \n",
      " ng2D)                                                           \n",
      "                                                                 \n",
      " conv2d_18 (Conv2D)          (None, 24, 24, 64)        18496     \n",
      "                                                                 \n",
      " max_pooling2d_15 (MaxPooli  (None, 12, 12, 64)        0         \n",
      " ng2D)                                                           \n",
      "                                                                 \n",
      " flatten_3 (Flatten)         (None, 9216)              0         \n",
      "                                                                 \n",
      " dense_5 (Dense)             (None, 64)                589888    \n",
      "                                                                 \n",
      " dense_6 (Dense)             (None, 4)                 260       \n",
      "                                                                 \n",
      "=================================================================\n",
      "Total params: 608964 (2.32 MB)\n",
      "Trainable params: 608964 (2.32 MB)\n",
      "Non-trainable params: 0 (0.00 Byte)\n",
      "_________________________________________________________________\n"
     ]
    }
   ],
   "source": [
    "model=keras.models.Sequential()\n",
    "\n",
    "model.add(Conv2D(32,(3,3),padding=\"same\",activation=\"relu\",input_shape=x_train_g.shape[1:]))\n",
    "model.add(MaxPooling2D((2,2)))\n",
    "\n",
    "model.add(Conv2D(64,(3,3),padding=\"same\",activation=\"relu\"))\n",
    "model.add(MaxPooling2D((2,2)))\n",
    "model.add(Flatten())\n",
    "\n",
    "model.add(Dense(64,activation=\"relu\"))\n",
    "model.add(Dense(num,activation=\"softmax\"))\n",
    "\n",
    "model.summary()"
   ]
  },
  {
   "cell_type": "code",
   "execution_count": 27,
   "id": "6cd02afd",
   "metadata": {},
   "outputs": [
    {
     "name": "stdout",
     "output_type": "stream",
     "text": [
      "Epoch 1/6\n",
      "578/578 [==============================] - 102s 176ms/step - loss: 0.6038 - accuracy: 0.7632 - val_loss: 107.5078 - val_accuracy: 0.5337\n",
      "Epoch 3/6\n",
      "578/578 [==============================] - 112s 194ms/step - loss: 0.5425 - accuracy: 0.7888 - val_loss: 163.0538 - val_accuracy: 0.4696\n",
      "Epoch 4/6\n",
      "578/578 [==============================] - 91s 158ms/step - loss: 0.4785 - accuracy: 0.8154 - val_loss: 141.5773 - val_accuracy: 0.5380\n",
      "Epoch 5/6\n",
      "578/578 [==============================] - 46s 80ms/step - loss: 0.4177 - accuracy: 0.8417 - val_loss: 183.3148 - val_accuracy: 0.5126\n",
      "Epoch 6/6\n",
      "578/578 [==============================] - 45s 78ms/step - loss: 0.3552 - accuracy: 0.8654 - val_loss: 208.9758 - val_accuracy: 0.5215\n"
     ]
    }
   ],
   "source": [
    "# Compile the model\n",
    "model.compile(optimizer='adam',\n",
    "              loss='categorical_crossentropy',\n",
    "              metrics=['accuracy'])\n",
    "\n",
    "# Train the model\n",
    "history = model.fit(\n",
    "    x_train_g, x_test_l,\n",
    "    validation_data=(y_train_g, y_test_l),\n",
    "    epochs=6,\n",
    "    batch_size=32\n",
    ")\n",
    "\n"
   ]
  },
  {
   "cell_type": "code",
   "execution_count": 32,
   "id": "1ad00748",
   "metadata": {},
   "outputs": [
    {
     "name": "stdout",
     "output_type": "stream",
     "text": [
      "1/1 [==============================] - 0s 33ms/step\n"
     ]
    },
    {
     "data": {
      "image/png": "[encoded data removed]",
      "text/plain": [
       "<Figure size 640x480 with 1 Axes>"
      ]
     },
     "metadata": {},
     "output_type": "display_data"
    },
    {
     "name": "stdout",
     "output_type": "stream",
     "text": [
      "1/1 [==============================] - 0s 41ms/step\n",
      "Predicted class: 0\n"
     ]
    }
   ],
   "source": [
    "import numpy as np\n",
    "import matplotlib.pyplot as plt\n",
    "\n",
    "# Select an image from the training set\n",
    "image_index = 0  # Change this index to test other images\n",
    "image = x_train_g[image_index]\n",
    "\n",
    "# Display the image\n",
    "plt.imshow(image.squeeze(), cmap='gray')\n",
    "plt.title(f\"Predicted label: {np.argmax(model.predict(image.reshape(1, *image.shape)))}\")\n",
    "plt.show()\n",
    "\n",
    "# Make the prediction\n",
    "image_reshaped = image.reshape(1, *image.shape)  # Reshape the image for the model\n",
    "prediction = model.predict(image_reshaped)\n",
    "\n",
    "# Get the predicted class\n",
    "predicted_class = np.argmax(prediction)  # This gives the class with the highest probability\n",
    "print(f\"Predicted class: {predicted_class}\")\n"
   ]
  },
  {
   "cell_type": "code",
   "execution_count": null,
   "id": "7a19ce09",
   "metadata": {},
   "outputs": [],
   "source": []
  }
 ],
 "metadata": {
  "kernelspec": {
   "display_name": "Python 3 (ipykernel)",
   "language": "python",
   "name": "python3"
  },
  "language_info": {
   "codemirror_mode": {
    "name": "ipython",
    "version": 3
   },
   "file_extension": ".py",
   "mimetype": "text/x-python",
   "name": "python",
   "nbconvert_exporter": "python",
   "pygments_lexer": "ipython3",
   "version": "3.11.5"
  }
 },
 "nbformat": 4,
 "nbformat_minor": 5
}
