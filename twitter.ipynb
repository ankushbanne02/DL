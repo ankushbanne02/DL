{
 "cells": [
  {
   "cell_type": "code",
   "execution_count": 1,
   "id": "faab10da",
   "metadata": {},
   "outputs": [],
   "source": [
    "\n",
    "from tensorflow import keras\n",
    "from keras.layers import Embedding,LSTM,Dropout,Dense,Flatten\n",
    "import pandas as pd\n",
    "from keras.models import Sequential\n",
    "import numpy as np\n",
    "import re\n",
    "from sklearn.model_selection import train_test_split"
   ]
  },
  {
   "cell_type": "code",
   "execution_count": 3,
   "id": "e911abf8",
   "metadata": {},
   "outputs": [],
   "source": [
    "data=pd.read_csv(\"C:/Users/AKASH/Desktop/twitter_training.csv\")\n"
   ]
  },
  {
   "cell_type": "code",
   "execution_count": 4,
   "id": "0a656748",
   "metadata": {},
   "outputs": [
    {
     "data": {
      "text/plain": [
       "0        I am coming to the borders and I will kill you...\n",
       "1        im getting on borderlands and i will kill you ...\n",
       "2        im coming on borderlands and i will murder you...\n",
       "3        im getting on borderlands 2 and i will murder ...\n",
       "4        im getting into borderlands and i can murder y...\n",
       "                               ...                        \n",
       "74676    Just realized that the Windows partition of my...\n",
       "74677    Just realized that my Mac window partition is ...\n",
       "74678    Just realized the windows partition of my Mac ...\n",
       "74679    Just realized between the windows partition of...\n",
       "74680    Just like the windows partition of my Mac is l...\n",
       "Name: im getting on borderlands and i will murder you all ,, Length: 74681, dtype: object"
      ]
     },
     "execution_count": 4,
     "metadata": {},
     "output_type": "execute_result"
    }
   ],
   "source": [
    "x=data[\"im getting on borderlands and i will murder you all ,\"]\n",
    "y=data['Positive']\n",
    "\n",
    "x"
   ]
  },
  {
   "cell_type": "code",
   "execution_count": 5,
   "id": "f7337bb8",
   "metadata": {},
   "outputs": [],
   "source": [
    "y=np.array([0 if label==\"Positive\" else\n",
    "            1 if label==\"neutral\" else\n",
    "            2 if label==\"Negative\" else\n",
    "            3 if label=='Irrelevant' else\n",
    "            3 for label in y])\n",
    "\n"
   ]
  },
  {
   "cell_type": "code",
   "execution_count": 6,
   "id": "041b9e49",
   "metadata": {},
   "outputs": [],
   "source": [
    "def preprocess_text(text):\n",
    "    text=re.sub('[^a-zA-Z]',' ',text)\n",
    "    text=text.lower().strip()\n",
    "    \n",
    "    return text\n",
    "    "
   ]
  },
  {
   "cell_type": "code",
   "execution_count": 8,
   "id": "d0a59c83",
   "metadata": {},
   "outputs": [],
   "source": [
    "# Modify preprocessing loop to handle non-string values\n",
    "x = [preprocess_text(str(sentence)) if isinstance(sentence, str) else preprocess_text('') for sentence in x]\n",
    "\n"
   ]
  },
  {
   "cell_type": "code",
   "execution_count": 9,
   "id": "6a72d57e",
   "metadata": {},
   "outputs": [],
   "source": [
    "max_token=200\n",
    "vocb_size=15000\n",
    "\n",
    "tokenizer =keras.preprocessing.text.Tokenizer(vocb_size)\n",
    "tokenizer.fit_on_texts(x)\n",
    "\n",
    "x_sequences=tokenizer.texts_to_sequences(x)\n",
    "x_pad=keras.preprocessing.sequence.pad_sequences(x_sequences,max_token)\n"
   ]
  },
  {
   "cell_type": "code",
   "execution_count": 10,
   "id": "ce21602f",
   "metadata": {},
   "outputs": [],
   "source": [
    "x_train,x_test,y_train,y_test = train_test_split(x_pad,y,test_size=0.3,random_state=35)"
   ]
  },
  {
   "cell_type": "code",
   "execution_count": 11,
   "id": "f18986b4",
   "metadata": {},
   "outputs": [
    {
     "data": {
      "text/plain": [
       "array([0, 0, 3, ..., 3, 3, 3])"
      ]
     },
     "execution_count": 11,
     "metadata": {},
     "output_type": "execute_result"
    }
   ],
   "source": [
    "y_train"
   ]
  },
  {
   "cell_type": "code",
   "execution_count": 12,
   "id": "e7ad5a44",
   "metadata": {},
   "outputs": [],
   "source": [
    "embedding= 50\n",
    "\n",
    "model=Sequential()\n",
    "\n",
    "model.add(Embedding(input_dim=vocb_size,output_dim=embedding,input_length=max_token))\n",
    "\n",
    "model.add(LSTM(units=16,return_sequences=True))\n",
    "model.add(Dropout(0.3))\n",
    "\n",
    "model.add(LSTM(units=8,return_sequences=True))\n",
    "model.add(Dropout(0.2))\n",
    "\n",
    "model.add(LSTM(units=4))\n",
    "model.add(Dropout(0.1))\n",
    "\n",
    "\n",
    "model.add(Dropout(0.1))\n",
    "\n",
    "\n",
    "\n",
    "model.add(Dense(4,activation=\"softmax\"))"
   ]
  },
  {
   "cell_type": "code",
   "execution_count": 265,
   "id": "24d9079f",
   "metadata": {},
   "outputs": [
    {
     "name": "stdout",
     "output_type": "stream",
     "text": [
      "Model: \"sequential_19\"\n",
      "_________________________________________________________________\n",
      " Layer (type)                Output Shape              Param #   \n",
      "=================================================================\n",
      " embedding_19 (Embedding)    (None, 200, 50)           750000    \n",
      "                                                                 \n",
      " lstm_59 (LSTM)              (None, 200, 16)           4288      \n",
      "                                                                 \n",
      " dropout_63 (Dropout)        (None, 200, 16)           0         \n",
      "                                                                 \n",
      " lstm_60 (LSTM)              (None, 200, 8)            800       \n",
      "                                                                 \n",
      " dropout_64 (Dropout)        (None, 200, 8)            0         \n",
      "                                                                 \n",
      " lstm_61 (LSTM)              (None, 4)                 208       \n",
      "                                                                 \n",
      " dropout_65 (Dropout)        (None, 4)                 0         \n",
      "                                                                 \n",
      " dropout_66 (Dropout)        (None, 4)                 0         \n",
      "                                                                 \n",
      " dense_14 (Dense)            (None, 4)                 20        \n",
      "                                                                 \n",
      "=================================================================\n",
      "Total params: 755316 (2.88 MB)\n",
      "Trainable params: 755316 (2.88 MB)\n",
      "Non-trainable params: 0 (0.00 Byte)\n",
      "_________________________________________________________________\n"
     ]
    }
   ],
   "source": [
    "model.summary()"
   ]
  },
  {
   "cell_type": "code",
   "execution_count": 15,
   "id": "9d0b4227",
   "metadata": {},
   "outputs": [],
   "source": [
    "opt =keras.optimizers.Adam(learning_rate=1e-3)\n",
    "model.compile(loss=\"sparse_categorical_crossentropy\",optimizer=opt,metrics=['accuracy'])"
   ]
  },
  {
   "cell_type": "code",
   "execution_count": 16,
   "id": "3c4d1909",
   "metadata": {},
   "outputs": [
    {
     "name": "stdout",
     "output_type": "stream",
     "text": [
      "Epoch 1/4\n",
      "523/523 [==============================] - 265s 479ms/step - loss: 0.9979 - accuracy: 0.5083 - val_loss: 0.7722 - val_accuracy: 0.6881\n",
      "Epoch 2/4\n",
      "523/523 [==============================] - 246s 471ms/step - loss: 0.7122 - accuracy: 0.6908 - val_loss: 0.6024 - val_accuracy: 0.7748\n",
      "Epoch 3/4\n",
      "523/523 [==============================] - 216s 413ms/step - loss: 0.5851 - accuracy: 0.7437 - val_loss: 0.5330 - val_accuracy: 0.8049\n",
      "Epoch 4/4\n",
      "523/523 [==============================] - 259s 495ms/step - loss: 0.5086 - accuracy: 0.7690 - val_loss: 0.4736 - val_accuracy: 0.8224\n"
     ]
    },
    {
     "data": {
      "text/plain": [
       "<keras.src.callbacks.History at 0x1694a6e2610>"
      ]
     },
     "execution_count": 16,
     "metadata": {},
     "output_type": "execute_result"
    }
   ],
   "source": [
    "model.fit(x_train,y_train,validation_data=(x_test,y_test), epochs=4,batch_size=100,shuffle=True,verbose=1)"
   ]
  },
  {
   "cell_type": "code",
   "execution_count": null,
   "id": "7abd62bc",
   "metadata": {},
   "outputs": [],
   "source": []
  },
  {
   "cell_type": "code",
   "execution_count": 24,
   "id": "4419b519",
   "metadata": {},
   "outputs": [
    {
     "name": "stdout",
     "output_type": "stream",
     "text": [
      "1/1 [==============================] - 0s 60ms/step\n",
      "[[0.86910385 0.00167295 0.03997139 0.08925176]]\n"
     ]
    }
   ],
   "source": [
    "sentence =\"im getting on borderlands and i will kill you\"\n",
    "tokenizer.fit_on_texts(sentence)\n",
    "x_sequences=tokenizer.texts_to_sequences([sentence])\n",
    "x_pad=keras.preprocessing.sequence.pad_sequences(x_sequences,max_token)\n",
    "\n",
    "result=model.predict(x_pad)\n",
    "print(result)\n"
   ]
  },
  {
   "cell_type": "code",
   "execution_count": null,
   "id": "19002a3c",
   "metadata": {},
   "outputs": [],
   "source": []
  }
 ],
 "metadata": {
  "kernelspec": {
   "display_name": "Python 3 (ipykernel)",
   "language": "python",
   "name": "python3"
  },
  "language_info": {
   "codemirror_mode": {
    "name": "ipython",
    "version": 3
   },
   "file_extension": ".py",
   "mimetype": "text/x-python",
   "name": "python",
   "nbconvert_exporter": "python",
   "pygments_lexer": "ipython3",
   "version": "3.11.5"
  }
 },
 "nbformat": 4,
 "nbformat_minor": 5
}
